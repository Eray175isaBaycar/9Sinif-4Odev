{
  "nbformat": 4,
  "nbformat_minor": 0,
  "metadata": {
    "colab": {
      "name": "Copy of 9Sinif-4Odev.ipynb",
      "provenance": [],
      "collapsed_sections": []
    },
    "kernelspec": {
      "name": "python3",
      "display_name": "Python 3"
    }
  },
  "cells": [
    {
      "cell_type": "markdown",
      "metadata": {
        "id": "mmLIOlO1MwFm",
        "colab_type": "text"
      },
      "source": [
        "Kod yazmak istediğinde ``+ Code`` tuşuna basman, metin girmek istediğinde ``+ Text`` düğmesine basman yeterli. Metin  yazarken Colab'a ait özel markdown kelime işlemcesini kullanacağız. Bu Github'ın Markdown  bazı bakımdan farklı komutlar içerecek. \n",
        "\n",
        "Örnek olarak matematiksel formüller kollunacağız. Bir satır içeresinde matamatiksel ifade yazmak istersen, matematiksel ifadeyi iki dolar işareti arasına alman gerekir. Örnek olarak $x^2$ yazmak için yapmamız gereken \\\\$x^2\\$ olarak yazman gerek.  Pisagor teoremi örnek olarak $a^2+b^2=c^2$ şeklinde verilir.  Eğer matematiği iki satır arasında göstermek istiyorsan, \n",
        "\n",
        "\\\\$$\n",
        "\n",
        "x^2+y^2=c^2\n",
        "\n",
        "\\$$\n",
        "\n",
        "olarak yazabilirsin. Mesela yukarıdaki denklemi şu şekilde yazabiliriz. \n",
        "\n",
        "$$\n",
        "x^2+y^2=c^2 \n",
        "$$\n",
        "Mesela matematiğin  en ünlü formülünü yazalım:\n",
        "\n",
        "$$\n",
        "e^{i\\pi}+1=0 \n",
        "$$\n",
        "\n",
        "Bu formülün niçin matematiğin en ünlü formülü olduğunu öğrenmek için [buraya](https://www.youtube.com/watch?v=IUTGFQpKaPU) bakabilirsin. Tabiki de daha güzel denklemleri de yazabilirsin. Bunun gibi:\n",
        "\n",
        "\\begin{align} \n",
        "(a+b)^3 &= (a+b)^2(a+b)\\\\\n",
        "&=(a^2+2ab+b^2)(a+b)\\\\\n",
        "&=(a^3+2a^2b+ab^2) + (a^2b+2ab^2+b^3)\\\\\n",
        "&=a^3+3a^2b+3ab^2+b^3\n",
        "\\end{align}\n",
        "\n",
        "Matematik ve fizik formüllerini kullanırken LaTeX matematik yazım kurallarını kullanacağız. Daha fazla bilgi için [buraya](https://math.meta.stackexchange.com/questions/5020/mathjax-basic-tutorial-and-quick-reference) bakabilirsin.\n",
        "\n",
        "**Ödev 1** Yukarıda verilen bağlantıyı kullanırak LaTeX ile bir fizik veya matematik formülünü aşağıya yaz. \n",
        "**$f$ $=$ $m1$ $\\cdot$ $m2$ $ / $ $ {r^2}$\n",
        "\n",
        "\n",
        "\n",
        "*Not:* Colab LaTeX'in bütün yazım kurallarını kapsamıyor. Onun için LaTeX'in bütün özelliklerini Colab'da kullanımıyabilirsin. Yukarıdaki bağlantıdaki bazı örnekleri yazamıyabilirsin. \n",
        "\n",
        "1'den $n$'e kadar sayıların toplamını kısaca $\\sum_{}{}$ işareti ile göstereceğim. Örnek olarak 1'den n'e kadar sayıların toplamı\n",
        "\n",
        "$$\n",
        "\\sum_{i=0}^n i = \\frac{n(n+1)}{2}\n",
        "$$\n",
        "\n",
        "formülü ile verilir. \n",
        "\n",
        "Örnek olarak 1'den 100'ye kadar sayıların toplamını kısaca \n",
        "\n",
        "$$\n",
        "\\sum_{i=0}^{100} i = \\frac{100(100+1)}{2}\n",
        "$$\n",
        "\n",
        "verilir. Yukarıdaki toplamın cevabı 5050'dir. Yukarıdaki formülü ilkokulda Gauss'un bulduğu  söyleniyor. Bunu aşağıdaki kodu kullanarak ispatlıyalım.\n",
        "\n"
      ]
    },
    {
      "cell_type": "code",
      "metadata": {
        "id": "IrZOY77Ij6MP",
        "colab_type": "code",
        "outputId": "0c8647b9-89db-4c7a-987f-c63de6cc5cc2",
        "colab": {
          "base_uri": "https://localhost:8080/",
          "height": 34
        }
      },
      "source": [
        "sum = 0\n",
        "for i in range(1,101):\n",
        "  sum = sum +i\n",
        "print (sum)       "
      ],
      "execution_count": 0,
      "outputs": [
        {
          "output_type": "stream",
          "text": [
            "5050\n"
          ],
          "name": "stdout"
        }
      ]
    },
    {
      "cell_type": "markdown",
      "metadata": {
        "id": "sp3NDmjvQGVM",
        "colab_type": "text"
      },
      "source": [
        "Şimdi de yukarıda yazdığımız kodu bir fonksiyonun içine koyalım."
      ]
    },
    {
      "cell_type": "code",
      "metadata": {
        "colab_type": "code",
        "id": "ySGh-FCUQXNI",
        "outputId": "2004cf24-1bea-43df-e0f2-072cc05bc2ea",
        "colab": {
          "base_uri": "https://localhost:8080/",
          "height": 129
        }
      },
      "source": [
        "def Gauss(n):\n",
        "  sum = 0\n",
        "  for i in range(1,101):\n",
        "    sum = sum +\n",
        "\n",
        "\n"
      ],
      "execution_count": 0,
      "outputs": [
        {
          "output_type": "error",
          "ename": "SyntaxError",
          "evalue": "ignored",
          "traceback": [
            "\u001b[0;36m  File \u001b[0;32m\"<ipython-input-9-a36ea6bb8761>\"\u001b[0;36m, line \u001b[0;32m5\u001b[0m\n\u001b[0;31m    break\u001b[0m\n\u001b[0m    ^\u001b[0m\n\u001b[0;31mSyntaxError\u001b[0m\u001b[0;31m:\u001b[0m 'break' outside loop\n"
          ]
        }
      ]
    },
    {
      "cell_type": "code",
      "metadata": {
        "id": "6Kl9_kGB8Sjj",
        "colab_type": "code",
        "outputId": "70385fc4-ae53-4c27-f81f-de4358b71105",
        "colab": {
          "base_uri": "https://localhost:8080/",
          "height": 35
        }
      },
      "source": [
        "Gauss(100)"
      ],
      "execution_count": 0,
      "outputs": [
        {
          "output_type": "execute_result",
          "data": {
            "text/plain": [
              "5050"
            ]
          },
          "metadata": {
            "tags": []
          },
          "execution_count": 5
        }
      ]
    },
    {
      "cell_type": "markdown",
      "metadata": {
        "id": "B2qGd7668zA_",
        "colab_type": "text"
      },
      "source": [
        "Şimdi de *Collatz Sanısı'na* (Collatz Conjecture) bakalım. Biz buna sanı diyeceğiz. Matematiksel olarak ispatlanmadı ama şimdiye kadar yanlışlanamadı da. Eğer doğru olduğunu ispatlarsan Matematikteki en büyük ödülü (Field Medal) alacağın kesindir. (Matematikte Nobel ödülü verilmiyor.)\n",
        "\n",
        "**Collatz Sanısı:** Verilen bir $n$ ile diziye başlayın. Eğer $n$ çift ise ikiye bölün, eğer tek sayı ise bu sayıyı 3 ile çarpıp 1 ekleyin. Bu dizi 1'e ulaştığında dizi sonar erer.  Hangi $n$ ile başlarsak başlayalım, her zaman 1'e ulaşır. Bunu matematiksel ifade olarak yazarsak:\n",
        "\n",
        "$$\n",
        "f(n) =\n",
        "\\begin{cases}\n",
        "n/2,  & \\text{eğer $n$ çift ise } \\\\\n",
        "3n+1, & \\text{eğer $n$ is tek ise}\n",
        "\\end{cases}\n",
        "$$\n",
        "\n",
        "Yukarıdaki ifadeyi kodun içine koyalım:\n",
        "\n",
        "\n",
        "\n",
        "\n"
      ]
    },
    {
      "cell_type": "code",
      "metadata": {
        "id": "16IyPJ7oECou",
        "colab_type": "code",
        "colab": {}
      },
      "source": [
        "def Collatz(n):\n",
        "  while n>1:\n",
        "    if n%2 == 0: # % operatörü bölümden kalan sayıyı verir. Kendin dene istersen\n",
        "       n = n/2\n",
        "    else:\n",
        "      n= 3*n +1\n",
        "    print(n, end=\" \") # end' burada çıktıyı bir sıraya koymak için kullandım. \n"
      ],
      "execution_count": 0,
      "outputs": []
    },
    {
      "cell_type": "code",
      "metadata": {
        "id": "90Z7NcTzEocH",
        "colab_type": "code",
        "outputId": "0f4c3854-7202-4cd4-f526-fa64ab4b6c96",
        "colab": {
          "base_uri": "https://localhost:8080/",
          "height": 35
        }
      },
      "source": [
        "Collatz(19)"
      ],
      "execution_count": 0,
      "outputs": [
        {
          "output_type": "stream",
          "text": [
            "58 29.0 88.0 44.0 22.0 11.0 34.0 17.0 52.0 26.0 13.0 40.0 20.0 10.0 5.0 16.0 8.0 4.0 2.0 1.0 "
          ],
          "name": "stdout"
        }
      ]
    },
    {
      "cell_type": "markdown",
      "metadata": {
        "id": "DVjQ5sIgEpgu",
        "colab_type": "text"
      },
      "source": [
        "Yukarıdaki fonksiyonu değiştirip, ulaştığı en yüksek sayıyı da bulan bir fonksiyon yazalım. Örnek olarak şöyle bir çıktı versin:\n",
        "\n",
        "Collatz sanısı 19 için doğrulandı ve bu sınama sonunda ulaşılan en yüksek sayı 88 oldu. "
      ]
    },
    {
      "cell_type": "code",
      "metadata": {
        "id": "7s-g6YeETcYz",
        "colab_type": "code",
        "colab": {}
      },
      "source": [
        ""
      ],
      "execution_count": 0,
      "outputs": []
    },
    {
      "cell_type": "code",
      "metadata": {
        "colab_type": "code",
        "id": "SDVcGZ5zTgYw",
        "colab": {}
      },
      "source": [
        "def Collatz_max(n):\n",
        "  n_init = n\n",
        "  max_number = n\n",
        "  while n>1:\n",
        "    if n%2 == 0: # % operatörü bölümden kalan sayıyı verir. Kendin dene istersen\n",
        "       n = n/2\n",
        "    else:\n",
        "      n= 3*n +1\n",
        "    if (n > max_number):\n",
        "      max_number = n\n",
        "  print(\"Collatz sanısı \" + str(n_init) + \" için doğrulandı ve bu sınama sonunda ulaşılan en yüksek sayı \" + str(max_number)+\" oldu\")\n",
        "\n"
      ],
      "execution_count": 0,
      "outputs": []
    },
    {
      "cell_type": "code",
      "metadata": {
        "id": "5PrYG82oTZfK",
        "colab_type": "code",
        "outputId": "88c7ea31-5ba6-4459-b1d2-b7c1ee8c4503",
        "colab": {
          "base_uri": "https://localhost:8080/",
          "height": 35
        }
      },
      "source": [
        "Collatz_max(19)"
      ],
      "execution_count": 0,
      "outputs": [
        {
          "output_type": "stream",
          "text": [
            "Collatz sanısı 19 için doğrulandı ve bu sınama sonunda ulaşılan en yüksek sayı 88.0 oldu\n"
          ],
          "name": "stdout"
        }
      ]
    },
    {
      "cell_type": "markdown",
      "metadata": {
        "id": "EvbmvSfdEuCi",
        "colab_type": "text"
      },
      "source": [
        ""
      ]
    },
    {
      "cell_type": "markdown",
      "metadata": {
        "id": "f3hMufYVguPz",
        "colab_type": "text"
      },
      "source": [
        "**Ödev 2 (Çözümlü):** Matematikçi Leibniz aşağıdaki formülü vermiştir.\n",
        "\n",
        "$$\n",
        "\\frac{\\pi}{4}= \\sum_{k=0}^{\\infty}\\frac{(-1)^k}{2k+1}\n",
        "$$\n",
        "Yukarıdaki formülün açılımı\n",
        "\n",
        "$$\n",
        "\\frac{\\pi}{4}= 1 - \\frac{1}{3}+\\frac{1}{5}-\\frac{1}{7}+\\frac{1}{9}-\\ldots\n",
        "$$\n",
        "şeklinde yazabiliriz. ```Leibniz_pi(n)``` isimli bir fonksiyon yazınız ve fonksiyon ```n```'e kadar Leibniz formülünü kullansın. Sonuçta $\\pi$'nin değerini ekrana bassın. "
      ]
    },
    {
      "cell_type": "code",
      "metadata": {
        "id": "SborILDAg5kt",
        "colab_type": "code",
        "colab": {}
      },
      "source": [
        "def Leibniz_pi(n):\n",
        "  sum=0\n",
        "  for i in range(0,n+1):\n",
        "    sum= sum+(-1)**i/(2*i+1)\n",
        "  result = sum*4\n",
        "  print(\"Pi=\"+ str(result))\n"
      ],
      "execution_count": 0,
      "outputs": []
    },
    {
      "cell_type": "code",
      "metadata": {
        "id": "8ehJhBFZjaLb",
        "colab_type": "code",
        "outputId": "1db2c2f4-04c8-4dd9-e796-003adf6d0637",
        "colab": {
          "base_uri": "https://localhost:8080/",
          "height": 35
        }
      },
      "source": [
        "Leibniz_pi(1000)"
      ],
      "execution_count": 0,
      "outputs": [
        {
          "output_type": "stream",
          "text": [
            "Pi=3.1425916543395442\n"
          ],
          "name": "stdout"
        }
      ]
    },
    {
      "cell_type": "markdown",
      "metadata": {
        "id": "yo6P_UaxjjIS",
        "colab_type": "text"
      },
      "source": [
        "**Ödev 3:**  3 ve 5'in katları\n",
        "\n",
        "Eğer 10'dan düşük (10 dahil değil) sayılardan 3 veya 5'in katları olan sayıları dizersek, 3,5,6,9 sayılarını elde ederiz. Bu sayıların toplamı 23 dir.\n",
        "\n",
        "1000'den düşük olan (1000 dahil değil) 3 veya 5'in katları olan sayıların toplamını yazan bir fonksiyon yazınız."
      ]
    },
    {
      "cell_type": "markdown",
      "metadata": {
        "id": "HkwzWQihx6_q",
        "colab_type": "text"
      },
      "source": [
        "**Ödev 4:** Çift Fibonacci Sayıları\n",
        "\n",
        "Fibonaci dizisinde her yeni terim kendinden önceki iki terimin toplamından elde edilir. 1 ve 2 ile başlayarak, ilk 10 terimin Fibonacci  dizisi\n",
        "\n",
        "$$\n",
        "1,2,3,5,8,13,21,34,55,89,\\ldots\n",
        "$$\n",
        "olur. \n",
        "\n",
        "Yukarıdaki diziyi matematiksel olarak yazarsak\n",
        "\n",
        "$$\n",
        "F_n=\n",
        "\\begin{cases}\n",
        "  0, & n=0\\\\\n",
        "  1, & n=1 \\\\\n",
        "  F_{n-1}+F_{n-2}, & n> 1\n",
        "\\end{cases}\n",
        "$$\n",
        "\n",
        "\n",
        "Fibonacci dizisinde değeri  4,000,000 (4 milyon dahil)'u geçmeyen sayıya kadar çift değerli Fibonacci terimlerinin toplamını bulun. \n",
        "\n",
        "Yardım: Aşağıdaki ```Fibonacci_term(n)``` n'ninci Fibonacci terimini vermektedir. Bu fonksiyonu başka bir fonksiyon içinde kullanarak ```Fibonacci_evenSum``` çift sayıların toplamını yapın. "
      ]
    },
    {
      "cell_type": "code",
      "metadata": {
        "id": "5tS1dBKZ0-ZS",
        "colab_type": "code",
        "colab": {}
      },
      "source": [
        "def Fibonacci_term(n): \n",
        "  if (n == 1):\n",
        "    return 1\n",
        "  if (n == 2):\n",
        "    return 2\n",
        "  else:\n",
        "    return Fibonacci_term(n-1) + Fibonacci_term(n-2)\n",
        "  \n",
        "\n",
        "\n",
        "\n",
        "\n"
      ],
      "execution_count": 0,
      "outputs": []
    },
    {
      "cell_type": "code",
      "metadata": {
        "id": "O6hJeNTVBsW_",
        "colab_type": "code",
        "outputId": "cad671e5-f7f5-4878-efc5-4643116c705f",
        "colab": {
          "base_uri": "https://localhost:8080/",
          "height": 35
        }
      },
      "source": [
        "Fibonacci_term(3)"
      ],
      "execution_count": 0,
      "outputs": [
        {
          "output_type": "execute_result",
          "data": {
            "text/plain": [
              "3"
            ]
          },
          "metadata": {
            "tags": []
          },
          "execution_count": 6
        }
      ]
    },
    {
      "cell_type": "code",
      "metadata": {
        "id": "Hth_Ul5DD2aF",
        "colab_type": "code",
        "outputId": "ece42aa5-55bf-474f-b970-f2c77ed550a8",
        "colab": {
          "base_uri": "https://localhost:8080/",
          "height": 35
        }
      },
      "source": [
        "Fibonacci_evenSum(10)"
      ],
      "execution_count": 0,
      "outputs": [
        {
          "output_type": "execute_result",
          "data": {
            "text/plain": [
              "44"
            ]
          },
          "metadata": {
            "tags": []
          },
          "execution_count": 79
        }
      ]
    },
    {
      "cell_type": "markdown",
      "metadata": {
        "id": "LH4H198lGoBc",
        "colab_type": "text"
      },
      "source": [
        "### ödev 1\n",
        "\n",
        "\n",
        "1.   yer çekimi kanunu\n",
        "2.  f =m1*m2/r^2\n",
        "\n"
      ]
    },
    {
      "cell_type": "markdown",
      "metadata": {
        "id": "Dh_Sk8mTGI2w",
        "colab_type": "text"
      },
      "source": [
        "# ödev 3\n"
      ]
    },
    {
      "cell_type": "code",
      "metadata": {
        "id": "O4OKVr1VnH_D",
        "colab_type": "code",
        "outputId": "9027772b-9ece-48fb-9b12-6a43ba7ad1fc",
        "colab": {
          "base_uri": "https://localhost:8080/",
          "height": 34
        }
      },
      "source": [
        "toplam=0\n",
        "for i in range(1,1000):\n",
        "  if(i%3==0 or i%5==0):\n",
        "    toplam+=i\n",
        "print(toplam)\n",
        "\n",
        "\n",
        "   \n"
      ],
      "execution_count": 0,
      "outputs": [
        {
          "output_type": "stream",
          "text": [
            "233168\n"
          ],
          "name": "stdout"
        }
      ]
    },
    {
      "cell_type": "code",
      "metadata": {
        "id": "egylnYn0EA_C",
        "colab_type": "code",
        "colab": {}
      },
      "source": [
        ""
      ],
      "execution_count": 0,
      "outputs": []
    },
    {
      "cell_type": "markdown",
      "metadata": {
        "id": "PEDC68q1F9Jm",
        "colab_type": "text"
      },
      "source": [
        "# ödev 4\n"
      ]
    },
    {
      "cell_type": "code",
      "metadata": {
        "id": "bEN6gf34Bueg",
        "colab_type": "code",
        "outputId": "e70287d6-3d7c-4fd0-f07c-c5b526c55351",
        "colab": {
          "base_uri": "https://localhost:8080/",
          "height": 34
        }
      },
      "source": [
        "def fibonacci (n):\n",
        "  a,b=1,2\n",
        "  fibonaccilist=[1,2]\n",
        "  while True :\n",
        "    next =a+b\n",
        "    if next>n:\n",
        "       break \n",
        "    fibonaccilist.append(next)\n",
        "    a,b=b, next\n",
        "  return fibonaccilist \n",
        "sum=0\n",
        "for x in fibonacci(4000000):\n",
        "  if x%2==0:\n",
        "    sum+=x\n",
        "print(sum)\n",
        "\n",
        "\n",
        "\n"
      ],
      "execution_count": 0,
      "outputs": [
        {
          "output_type": "stream",
          "text": [
            "4613732\n"
          ],
          "name": "stdout"
        }
      ]
    }
  ]
}